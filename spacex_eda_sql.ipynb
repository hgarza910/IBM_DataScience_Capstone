{
 "cells": [
  {
   "cell_type": "code",
   "execution_count": null,
   "metadata": {
    "collapsed": true
   },
   "outputs": [],
   "source": []
  },
  {
   "cell_type": "markdown",
   "source": [
    "<p style=\"text-align:center\">\n",
    "    <a href=\"https://skills.network/?utm_medium=Exinfluencer&utm_source=Exinfluencer&utm_content=000026UJ&utm_term=10006555&utm_id=NA-SkillsNetwork-Channel-SkillsNetworkCoursesIBMDS0321ENSkillsNetwork865-2023-01-01\">\n",
    "    <img src=\"https://cf-courses-data.s3.us.cloud-object-storage.appdomain.cloud/assets/logos/SN_web_lightmode.png\" width=\"200\" alt=\"Skills Network Logo\"  />\n",
    "    </a>\n",
    "</p>\n",
    "\n",
    "<h1 align=center><font size = 5>Assignment: SQL Notebook for Peer Assignment</font></h1>\n",
    "\n",
    "Estimated time needed: **60** minutes.\n",
    "\n",
    "## Introduction\n",
    "Using this Python notebook you will:\n",
    "\n",
    "1.  Understand the Spacex DataSet\n",
    "2.  Load the dataset  into the corresponding table in a Db2 database\n",
    "3.  Execute SQL queries to answer assignment questions\n"
   ],
   "metadata": {
    "collapsed": false
   }
  },
  {
   "cell_type": "markdown",
   "source": [
    "## Overview of the DataSet\n",
    "\n",
    "SpaceX has gained worldwide attention for a series of historic milestones.\n",
    "\n",
    "It is the only private company ever to return a spacecraft from low-earth orbit, which it first accomplished in December 2010.\n",
    "SpaceX advertises Falcon 9 rocket launches on its website with a cost of 62 million dollars wheras other providers cost upward of 165 million dollars each, much of the savings is because Space X can reuse the first stage.\n",
    "\n",
    "\n",
    "Therefore if we can determine if the first stage will land, we can determine the cost of a launch.\n",
    "\n",
    "This information can be used if an alternate company wants to bid against SpaceX for a rocket launch.\n",
    "\n",
    "This dataset includes a record for each payload carried during a SpaceX mission into outer space.\n"
   ],
   "metadata": {
    "collapsed": false
   }
  },
  {
   "cell_type": "markdown",
   "source": [
    "### Download the datasets\n",
    "\n",
    "This assignment requires you to load the spacex dataset.\n",
    "\n",
    "In many cases the dataset to be analyzed is available as a .CSV (comma separated values) file, perhaps on the internet. Click on the link below to download and save the dataset (.CSV file):\n",
    "\n",
    " <a href=\"https://cf-courses-data.s3.us.cloud-object-storage.appdomain.cloud/IBM-DS0321EN-SkillsNetwork/labs/module_2/data/Spacex.csv\" target=\"_blank\">Spacex DataSet</a>\n",
    "\n"
   ],
   "metadata": {
    "collapsed": false
   }
  },
  {
   "cell_type": "code",
   "execution_count": 2,
   "outputs": [
    {
     "name": "stdout",
     "output_type": "stream",
     "text": [
      "Collecting sqlalchemy==1.3.9\n",
      "  Downloading SQLAlchemy-1.3.9.tar.gz (6.0 MB)\n",
      "     ---------------------------------------- 6.0/6.0 MB 16.5 MB/s eta 0:00:00\n",
      "  Preparing metadata (setup.py): started\n",
      "  Preparing metadata (setup.py): finished with status 'done'\n",
      "Building wheels for collected packages: sqlalchemy\n",
      "  Building wheel for sqlalchemy (setup.py): started\n",
      "  Building wheel for sqlalchemy (setup.py): finished with status 'done'\n",
      "  Created wheel for sqlalchemy: filename=SQLAlchemy-1.3.9-cp39-cp39-win_amd64.whl size=1142918 sha256=f0120b108a026c8fc2befc65b8e67c0ce93a53d3251f3beb32d7d3b9508646c0\n",
      "  Stored in directory: c:\\users\\junior\\appdata\\local\\pip\\cache\\wheels\\5b\\43\\0d\\de1699809f9e6aaa54a97275298fa07075cb19acc557b18955\n",
      "Successfully built sqlalchemy\n",
      "Installing collected packages: sqlalchemy\n",
      "  Attempting uninstall: sqlalchemy\n",
      "    Found existing installation: SQLAlchemy 1.4.39\n",
      "    Uninstalling SQLAlchemy-1.4.39:\n",
      "      Successfully uninstalled SQLAlchemy-1.4.39\n",
      "Successfully installed sqlalchemy-1.3.9\n"
     ]
    }
   ],
   "source": [
    "#!pip install sqlalchemy==1.3.9\n"
   ],
   "metadata": {
    "collapsed": false
   }
  },
  {
   "cell_type": "markdown",
   "source": [
    "### Connect to the database\n",
    "\n",
    "Let us first load the SQL extension and establish a connection with the database\n"
   ],
   "metadata": {
    "collapsed": false
   }
  },
  {
   "cell_type": "code",
   "execution_count": 9,
   "outputs": [
    {
     "name": "stdout",
     "output_type": "stream",
     "text": [
      "Collecting sql\n",
      "  Downloading sql-2022.4.0.tar.gz (4.2 kB)\n",
      "  Preparing metadata (setup.py): started\n",
      "  Preparing metadata (setup.py): finished with status 'done'\n",
      "Building wheels for collected packages: sql\n",
      "  Building wheel for sql (setup.py): started\n",
      "  Building wheel for sql (setup.py): finished with status 'done'\n",
      "  Created wheel for sql: filename=sql-2022.4.0-py3-none-any.whl size=4307 sha256=be4468f54fd94635b5d3928c4359b5cd5521a9ab91d599cec02f7dc9be736a65\n",
      "  Stored in directory: c:\\users\\junior\\appdata\\local\\pip\\cache\\wheels\\46\\08\\97\\9539d985c524b7a3793898bbf6c95879a0e9daf5fc9ba49fd0\n",
      "Successfully built sql\n",
      "Installing collected packages: sql\n",
      "Successfully installed sql-2022.4.0\n"
     ]
    }
   ],
   "source": [
    "#!pip install sql"
   ],
   "metadata": {
    "collapsed": false
   }
  },
  {
   "cell_type": "code",
   "execution_count": 11,
   "outputs": [
    {
     "name": "stdout",
     "output_type": "stream",
     "text": [
      "Retrieving notices: ...working... done\n",
      "Collecting package metadata (current_repodata.json): ...working... done\n",
      "Solving environment: ...working... done\n",
      "\n",
      "## Package Plan ##\n",
      "\n",
      "  environment location: C:\\Users\\Junior\\anaconda3\n",
      "\n",
      "  added / updated specs:\n",
      "    - ipython-sql\n",
      "\n",
      "\n",
      "The following packages will be downloaded:\n",
      "\n",
      "    package                    |            build\n",
      "    ---------------------------|-----------------\n",
      "    ca-certificates-2023.7.22  |       h56e8100_0         146 KB  conda-forge\n",
      "    certifi-2023.7.22          |     pyhd8ed1ab_0         150 KB  conda-forge\n",
      "    ipython-sql-0.3.9          |  pyhd8ed1ab_1004          18 KB  conda-forge\n",
      "    libblas-3.9.0              |1_h8933c1f_netlib         193 KB  conda-forge\n",
      "    libcblas-3.9.0             |5_hd5c7e75_netlib          95 KB  conda-forge\n",
      "    liblapack-3.9.0            |5_hd5c7e75_netlib         2.7 MB  conda-forge\n",
      "    m2w64-gcc-libgfortran-5.3.0|                6         342 KB  conda-forge\n",
      "    m2w64-gcc-libs-5.3.0       |                7         520 KB  conda-forge\n",
      "    m2w64-gcc-libs-core-5.3.0  |                7         214 KB  conda-forge\n",
      "    m2w64-gmp-6.1.0            |                2         726 KB  conda-forge\n",
      "    numpy-1.21.6               |   py39h6331f09_0         5.4 MB  conda-forge\n",
      "    prettytable-3.8.0          |     pyhd8ed1ab_0          29 KB  conda-forge\n",
      "    sqlalchemy-1.4.13          |   py39hb82d6ee_0         2.3 MB  conda-forge\n",
      "    sqlparse-0.4.4             |     pyhd8ed1ab_0          37 KB  conda-forge\n",
      "    ------------------------------------------------------------\n",
      "                                           Total:        12.8 MB\n",
      "\n",
      "The following NEW packages will be INSTALLED:\n",
      "\n",
      "  ipython-sql        conda-forge/noarch::ipython-sql-0.3.9-pyhd8ed1ab_1004 \n",
      "  libblas            conda-forge/win-64::libblas-3.9.0-1_h8933c1f_netlib \n",
      "  libcblas           conda-forge/win-64::libcblas-3.9.0-5_hd5c7e75_netlib \n",
      "  liblapack          conda-forge/win-64::liblapack-3.9.0-5_hd5c7e75_netlib \n",
      "  m2w64-gcc-libgfor~ conda-forge/win-64::m2w64-gcc-libgfortran-5.3.0-6 \n",
      "  m2w64-gcc-libs     conda-forge/win-64::m2w64-gcc-libs-5.3.0-7 \n",
      "  m2w64-gcc-libs-co~ conda-forge/win-64::m2w64-gcc-libs-core-5.3.0-7 \n",
      "  m2w64-gmp          conda-forge/win-64::m2w64-gmp-6.1.0-2 \n",
      "  prettytable        conda-forge/noarch::prettytable-3.8.0-pyhd8ed1ab_0 \n",
      "  sqlalchemy         conda-forge/win-64::sqlalchemy-1.4.13-py39hb82d6ee_0 \n",
      "  sqlparse           conda-forge/noarch::sqlparse-0.4.4-pyhd8ed1ab_0 \n",
      "\n",
      "The following packages will be UPDATED:\n",
      "\n",
      "  ca-certificates    pkgs/main::ca-certificates-2023.05.30~ --> conda-forge::ca-certificates-2023.7.22-h56e8100_0 \n",
      "  certifi            pkgs/main/win-64::certifi-2023.5.7-py~ --> conda-forge/noarch::certifi-2023.7.22-pyhd8ed1ab_0 \n",
      "  numpy              pkgs/main::numpy-1.21.5-py39h7a0a035_3 --> conda-forge::numpy-1.21.6-py39h6331f09_0 \n",
      "\n",
      "\n",
      "\n",
      "Downloading and Extracting Packages\n",
      "\n",
      "numpy-1.21.6         | 5.4 MB    |            |   0% \n",
      "\n",
      "m2w64-gcc-libs-5.3.0 | 520 KB    |            |   0% \u001B[A\n",
      "\n",
      "\n",
      "m2w64-gcc-libs-core- | 214 KB    |            |   0% \u001B[A\u001B[A\n",
      "\n",
      "\n",
      "\n",
      "liblapack-3.9.0      | 2.7 MB    |            |   0% \u001B[A\u001B[A\u001B[A\n",
      "\n",
      "\n",
      "\n",
      "\n",
      "sqlparse-0.4.4       | 37 KB     |            |   0% \u001B[A\u001B[A\u001B[A\u001B[A\n",
      "\n",
      "\n",
      "\n",
      "\n",
      "\n",
      "m2w64-gcc-libgfortra | 342 KB    |            |   0% \u001B[A\u001B[A\u001B[A\u001B[A\u001B[A\n",
      "\n",
      "\n",
      "\n",
      "\n",
      "\n",
      "\n",
      "ca-certificates-2023 | 146 KB    |            |   0% \u001B[A\u001B[A\u001B[A\u001B[A\u001B[A\u001B[A\n",
      "\n",
      "\n",
      "\n",
      "\n",
      "\n",
      "\n",
      "\n",
      "libblas-3.9.0        | 193 KB    |            |   0% \u001B[A\u001B[A\u001B[A\u001B[A\u001B[A\u001B[A\u001B[A\n",
      "\n",
      "\n",
      "\n",
      "\n",
      "\n",
      "\n",
      "\n",
      "\n",
      "libcblas-3.9.0       | 95 KB     |            |   0% \u001B[A\u001B[A\u001B[A\u001B[A\u001B[A\u001B[A\u001B[A\u001B[A\n",
      "\n",
      "\n",
      "\n",
      "\n",
      "\n",
      "\n",
      "\n",
      "\n",
      "\n",
      "certifi-2023.7.22    | 150 KB    |            |   0% \u001B[A\u001B[A\u001B[A\u001B[A\u001B[A\u001B[A\u001B[A\u001B[A\u001B[A\n",
      "\n",
      "\n",
      "\n",
      "\n",
      "\n",
      "\n",
      "\n",
      "\n",
      "\n",
      "\n",
      "prettytable-3.8.0    | 29 KB     |            |   0% \u001B[A\u001B[A\u001B[A\u001B[A\u001B[A\u001B[A\u001B[A\u001B[A\u001B[A\u001B[A\n",
      "\n",
      "\n",
      "\n",
      "\n",
      "\n",
      "\n",
      "\n",
      "\n",
      "\n",
      "\n",
      "\n",
      "sqlalchemy-1.4.13    | 2.3 MB    |            |   0% \u001B[A\u001B[A\u001B[A\u001B[A\u001B[A\u001B[A\u001B[A\u001B[A\u001B[A\u001B[A\u001B[A\n",
      "\n",
      "\n",
      "\n",
      "\n",
      "\n",
      "\n",
      "\n",
      "\n",
      "\n",
      "\n",
      "\n",
      "\n",
      "m2w64-gmp-6.1.0      | 726 KB    |            |   0% \u001B[A\u001B[A\u001B[A\u001B[A\u001B[A\u001B[A\u001B[A\u001B[A\u001B[A\u001B[A\u001B[A\u001B[A\n",
      "\n",
      "\n",
      "\n",
      "\n",
      "\n",
      "\n",
      "\n",
      "\n",
      "\n",
      "\n",
      "\n",
      "\n",
      "\n",
      "ipython-sql-0.3.9    | 18 KB     |            |   0% \u001B[A\u001B[A\u001B[A\u001B[A\u001B[A\u001B[A\u001B[A\u001B[A\u001B[A\u001B[A\u001B[A\u001B[A\u001B[A\n",
      "\n",
      "\n",
      "m2w64-gcc-libs-core- | 214 KB    | 7          |   7% \u001B[A\u001B[A\n",
      "\n",
      "\n",
      "\n",
      "liblapack-3.9.0      | 2.7 MB    |            |   1% \u001B[A\u001B[A\u001B[A\n",
      "\n",
      "\n",
      "\n",
      "\n",
      "sqlparse-0.4.4       | 37 KB     | ####3      |  44% \u001B[A\u001B[A\u001B[A\u001B[A\n",
      "\n",
      "m2w64-gcc-libs-5.3.0 | 520 KB    | 3          |   3% \u001B[A\n",
      "\n",
      "\n",
      "\n",
      "\n",
      "sqlparse-0.4.4       | 37 KB     | ########## | 100% \u001B[A\u001B[A\u001B[A\u001B[A\n",
      "numpy-1.21.6         | 5.4 MB    |            |   0% \n",
      "\n",
      "\n",
      "\n",
      "\n",
      "\n",
      "m2w64-gcc-libgfortra | 342 KB    | 4          |   5% \u001B[A\u001B[A\u001B[A\u001B[A\u001B[A\n",
      "\n",
      "\n",
      "\n",
      "liblapack-3.9.0      | 2.7 MB    | #3         |  14% \u001B[A\u001B[A\u001B[A\n",
      "\n",
      "\n",
      "m2w64-gcc-libs-core- | 214 KB    | ########## | 100% \u001B[A\u001B[A\n",
      "\n",
      "\n",
      "m2w64-gcc-libs-core- | 214 KB    | ########## | 100% \u001B[A\u001B[A\n",
      "\n",
      "m2w64-gcc-libs-5.3.0 | 520 KB    | ####6      |  46% \u001B[A\n",
      "\n",
      "\n",
      "\n",
      "\n",
      "\n",
      "\n",
      "ca-certificates-2023 | 146 KB    | #          |  11% \u001B[A\u001B[A\u001B[A\u001B[A\u001B[A\u001B[A\n",
      "numpy-1.21.6         | 5.4 MB    | 4          |   4% \n",
      "\n",
      "\n",
      "\n",
      "\n",
      "\n",
      "m2w64-gcc-libgfortra | 342 KB    | #######    |  70% \u001B[A\u001B[A\u001B[A\u001B[A\u001B[A\n",
      "\n",
      "\n",
      "\n",
      "liblapack-3.9.0      | 2.7 MB    | #####9     |  60% \u001B[A\u001B[A\u001B[A\n",
      "\n",
      "\n",
      "\n",
      "\n",
      "\n",
      "\n",
      "ca-certificates-2023 | 146 KB    | ########## | 100% \u001B[A\u001B[A\u001B[A\u001B[A\u001B[A\u001B[A\n",
      "\n",
      "\n",
      "\n",
      "\n",
      "\n",
      "\n",
      "\n",
      "libblas-3.9.0        | 193 KB    | 8          |   8% \u001B[A\u001B[A\u001B[A\u001B[A\u001B[A\u001B[A\u001B[A\n",
      "\n",
      "\n",
      "\n",
      "\n",
      "\n",
      "\n",
      "\n",
      "\n",
      "\n",
      "certifi-2023.7.22    | 150 KB    | #          |  11% \u001B[A\u001B[A\u001B[A\u001B[A\u001B[A\u001B[A\u001B[A\u001B[A\u001B[A\n",
      "\n",
      "\n",
      "\n",
      "\n",
      "\n",
      "m2w64-gcc-libgfortra | 342 KB    | ########## | 100% \u001B[A\u001B[A\u001B[A\u001B[A\u001B[A\n",
      "numpy-1.21.6         | 5.4 MB    | #2         |  12% \n",
      "\n",
      "\n",
      "\n",
      "\n",
      "\n",
      "\n",
      "\n",
      "\n",
      "libcblas-3.9.0       | 95 KB     | #6         |  17% \u001B[A\u001B[A\u001B[A\u001B[A\u001B[A\u001B[A\u001B[A\u001B[A\n",
      "\n",
      "m2w64-gcc-libs-5.3.0 | 520 KB    | ########## | 100% \u001B[A\n",
      "\n",
      "m2w64-gcc-libs-5.3.0 | 520 KB    | ########## | 100% \u001B[A\n",
      "\n",
      "\n",
      "\n",
      "\n",
      "\n",
      "\n",
      "\n",
      "\n",
      "\n",
      "\n",
      "prettytable-3.8.0    | 29 KB     | #####4     |  55% \u001B[A\u001B[A\u001B[A\u001B[A\u001B[A\u001B[A\u001B[A\u001B[A\u001B[A\u001B[A\n",
      "\n",
      "\n",
      "\n",
      "\n",
      "\n",
      "\n",
      "\n",
      "\n",
      "\n",
      "\n",
      "\n",
      "\n",
      "m2w64-gmp-6.1.0      | 726 KB    | 2          |   2% \u001B[A\u001B[A\u001B[A\u001B[A\u001B[A\u001B[A\u001B[A\u001B[A\u001B[A\u001B[A\u001B[A\u001B[A\n",
      "\n",
      "\n",
      "\n",
      "\n",
      "\n",
      "\n",
      "\n",
      "\n",
      "\n",
      "certifi-2023.7.22    | 150 KB    | ########## | 100% \u001B[A\u001B[A\u001B[A\u001B[A\u001B[A\u001B[A\u001B[A\u001B[A\u001B[A\n",
      "\n",
      "\n",
      "\n",
      "\n",
      "\n",
      "\n",
      "\n",
      "\n",
      "libcblas-3.9.0       | 95 KB     | ########## | 100% \u001B[A\u001B[A\u001B[A\u001B[A\u001B[A\u001B[A\u001B[A\u001B[A\n",
      "numpy-1.21.6         | 5.4 MB    | ####3      |  44% \n",
      "\n",
      "\n",
      "\n",
      "\n",
      "\n",
      "\n",
      "\n",
      "\n",
      "\n",
      "\n",
      "prettytable-3.8.0    | 29 KB     | ########## | 100% \u001B[A\u001B[A\u001B[A\u001B[A\u001B[A\u001B[A\u001B[A\u001B[A\u001B[A\u001B[A\n",
      "\n",
      "\n",
      "\n",
      "\n",
      "\n",
      "\n",
      "\n",
      "libblas-3.9.0        | 193 KB    | ########## | 100% \u001B[A\u001B[A\u001B[A\u001B[A\u001B[A\u001B[A\u001B[A\n",
      "\n",
      "\n",
      "\n",
      "\n",
      "\n",
      "\n",
      "\n",
      "libblas-3.9.0        | 193 KB    | ########## | 100% \u001B[A\u001B[A\u001B[A\u001B[A\u001B[A\u001B[A\u001B[A\n",
      "\n",
      "\n",
      "\n",
      "\n",
      "\n",
      "\n",
      "\n",
      "\n",
      "\n",
      "\n",
      "\n",
      "\n",
      "\n",
      "ipython-sql-0.3.9    | 18 KB     | ########7  |  87% \u001B[A\u001B[A\u001B[A\u001B[A\u001B[A\u001B[A\u001B[A\u001B[A\u001B[A\u001B[A\u001B[A\u001B[A\u001B[A\n",
      "\n",
      "\n",
      "\n",
      "\n",
      "\n",
      "\n",
      "\n",
      "\n",
      "\n",
      "\n",
      "\n",
      "\n",
      "\n",
      "ipython-sql-0.3.9    | 18 KB     | ########## | 100% \u001B[A\u001B[A\u001B[A\u001B[A\u001B[A\u001B[A\u001B[A\u001B[A\u001B[A\u001B[A\u001B[A\u001B[A\u001B[A\n",
      "\n",
      "\n",
      "\n",
      "\n",
      "\n",
      "\n",
      "\n",
      "\n",
      "\n",
      "\n",
      "\n",
      "\n",
      "m2w64-gmp-6.1.0      | 726 KB    | ####6      |  46% \u001B[A\u001B[A\u001B[A\u001B[A\u001B[A\u001B[A\u001B[A\u001B[A\u001B[A\u001B[A\u001B[A\u001B[A\n",
      "\n",
      "\n",
      "\n",
      "\n",
      "\n",
      "\n",
      "\n",
      "\n",
      "\n",
      "\n",
      "\n",
      "sqlalchemy-1.4.13    | 2.3 MB    |            |   1% \u001B[A\u001B[A\u001B[A\u001B[A\u001B[A\u001B[A\u001B[A\u001B[A\u001B[A\u001B[A\u001B[A\n",
      "numpy-1.21.6         | 5.4 MB    | #######9   |  79% \n",
      "\n",
      "\n",
      "\n",
      "\n",
      "\n",
      "\n",
      "\n",
      "\n",
      "\n",
      "\n",
      "\n",
      "\n",
      "m2w64-gmp-6.1.0      | 726 KB    | #########2 |  93% \u001B[A\u001B[A\u001B[A\u001B[A\u001B[A\u001B[A\u001B[A\u001B[A\u001B[A\u001B[A\u001B[A\u001B[A\n",
      "\n",
      "\n",
      "\n",
      "\n",
      "\n",
      "\n",
      "\n",
      "\n",
      "\n",
      "\n",
      "\n",
      "sqlalchemy-1.4.13    | 2.3 MB    | ##2        |  22% \u001B[A\u001B[A\u001B[A\u001B[A\u001B[A\u001B[A\u001B[A\u001B[A\u001B[A\u001B[A\u001B[A\n",
      "\n",
      "\n",
      "\n",
      "\n",
      "\n",
      "\n",
      "\n",
      "\n",
      "\n",
      "\n",
      "\n",
      "\n",
      "m2w64-gmp-6.1.0      | 726 KB    | ########## | 100% \u001B[A\u001B[A\u001B[A\u001B[A\u001B[A\u001B[A\u001B[A\u001B[A\u001B[A\u001B[A\u001B[A\u001B[A\n",
      "\n",
      "\n",
      "\n",
      "liblapack-3.9.0      | 2.7 MB    | ########## | 100% \u001B[A\u001B[A\u001B[A\n",
      "\n",
      "\n",
      "\n",
      "liblapack-3.9.0      | 2.7 MB    | ########## | 100% \u001B[A\u001B[A\u001B[A\n",
      "\n",
      "\n",
      "\n",
      "\n",
      "\n",
      "\n",
      "\n",
      "\n",
      "\n",
      "\n",
      "\n",
      "sqlalchemy-1.4.13    | 2.3 MB    | #########6 |  96% \u001B[A\u001B[A\u001B[A\u001B[A\u001B[A\u001B[A\u001B[A\u001B[A\u001B[A\u001B[A\u001B[A\n",
      "\n",
      "\n",
      "\n",
      "\n",
      "\n",
      "\n",
      "\n",
      "\n",
      "\n",
      "\n",
      "\n",
      "sqlalchemy-1.4.13    | 2.3 MB    | ########## | 100% \u001B[A\u001B[A\u001B[A\u001B[A\u001B[A\u001B[A\u001B[A\u001B[A\u001B[A\u001B[A\u001B[A\n",
      "numpy-1.21.6         | 5.4 MB    | ########## | 100% \n",
      "                                                     \n",
      "\n",
      "\n",
      "                                                     \u001B[A\n",
      "\n",
      "\n",
      "                                                     \u001B[A\u001B[A\n",
      "\n",
      "\n",
      "\n",
      "                                                     \u001B[A\u001B[A\u001B[A\n",
      "\n",
      "\n",
      "\n",
      "\n",
      "                                                     \u001B[A\u001B[A\u001B[A\u001B[A\n",
      "\n",
      "\n",
      "\n",
      "\n",
      "\n",
      "                                                     \u001B[A\u001B[A\u001B[A\u001B[A\u001B[A\n",
      "\n",
      "\n",
      "\n",
      "\n",
      "\n",
      "\n",
      "                                                     \u001B[A\u001B[A\u001B[A\u001B[A\u001B[A\u001B[A\n",
      "\n",
      "\n",
      "\n",
      "\n",
      "\n",
      "\n",
      "\n",
      "                                                     \u001B[A\u001B[A\u001B[A\u001B[A\u001B[A\u001B[A\u001B[A\n",
      "\n",
      "\n",
      "\n",
      "\n",
      "\n",
      "\n",
      "\n",
      "\n",
      "                                                     \u001B[A\u001B[A\u001B[A\u001B[A\u001B[A\u001B[A\u001B[A\u001B[A\n",
      "\n",
      "\n",
      "\n",
      "\n",
      "\n",
      "\n",
      "\n",
      "\n",
      "\n",
      "                                                     \u001B[A\u001B[A\u001B[A\u001B[A\u001B[A\u001B[A\u001B[A\u001B[A\u001B[A\n",
      "\n",
      "\n",
      "\n",
      "\n",
      "\n",
      "\n",
      "\n",
      "\n",
      "\n",
      "\n",
      "                                                     \u001B[A\u001B[A\u001B[A\u001B[A\u001B[A\u001B[A\u001B[A\u001B[A\u001B[A\u001B[A\n",
      "\n",
      "\n",
      "\n",
      "\n",
      "\n",
      "\n",
      "\n",
      "\n",
      "\n",
      "\n",
      "\n",
      "                                                     \u001B[A\u001B[A\u001B[A\u001B[A\u001B[A\u001B[A\u001B[A\u001B[A\u001B[A\u001B[A\u001B[A\n",
      "\n",
      "\n",
      "\n",
      "\n",
      "\n",
      "\n",
      "\n",
      "\n",
      "\n",
      "\n",
      "\n",
      "\n",
      "                                                     \u001B[A\u001B[A\u001B[A\u001B[A\u001B[A\u001B[A\u001B[A\u001B[A\u001B[A\u001B[A\u001B[A\u001B[A\n",
      "\n",
      "\n",
      "\n",
      "\n",
      "\n",
      "\n",
      "\n",
      "\n",
      "\n",
      "\n",
      "\n",
      "\n",
      "\n",
      "                                                     \u001B[A\u001B[A\u001B[A\u001B[A\u001B[A\u001B[A\u001B[A\u001B[A\u001B[A\u001B[A\u001B[A\u001B[A\u001B[A\n",
      "\n",
      "Preparing transaction: ...working... done\n",
      "Verifying transaction: ...working... done\n",
      "Executing transaction: ...working... done\n",
      "\n",
      "Note: you may need to restart the kernel to use updated packages.\n"
     ]
    },
    {
     "name": "stderr",
     "output_type": "stream",
     "text": [
      "\n",
      "The environment is inconsistent, please check the package plan carefully\n",
      "The following packages are causing the inconsistency:\n",
      "\n",
      "  - defaults/win-64::anaconda==custom=py39_1\n",
      "  - defaults/win-64::astropy==5.1=py39h080aedc_0\n",
      "  - defaults/win-64::bkcharts==0.2=py39haa95532_1\n",
      "  - defaults/win-64::bokeh==2.4.3=py39haa95532_0\n",
      "  - defaults/win-64::bottleneck==1.3.5=py39h080aedc_0\n",
      "  - defaults/win-64::cython-blis==0.7.9=py39h080aedc_0\n",
      "  - defaults/win-64::daal4py==2021.6.0=py39h757b272_1\n",
      "  - defaults/win-64::dask==2022.7.0=py39haa95532_0\n",
      "  - defaults/win-64::datashader==0.14.1=py39haa95532_0\n",
      "  - defaults/win-64::datashape==0.5.4=py39haa95532_1\n",
      "  - fastai/noarch::fastai==2.7.12=py_0\n",
      "  - defaults/win-64::gensim==4.1.2=py39hd77b12b_0\n",
      "  - defaults/win-64::h5py==3.7.0=py39h3de5c98_0\n",
      "  - defaults/win-64::holoviews==1.15.0=py39haa95532_0\n",
      "  - defaults/win-64::hvplot==0.8.0=py39haa95532_0\n",
      "  - defaults/win-64::imagecodecs==2021.8.26=py39hc0a7faf_1\n",
      "  - defaults/win-64::imageio==2.19.3=py39haa95532_0\n",
      "  - defaults/noarch::intake==0.6.5=pyhd3eb1b0_0\n",
      "  - defaults/win-64::lightgbm==3.3.5=py39hd77b12b_0\n",
      "  - defaults/win-64::matplotlib==3.5.2=py39haa95532_0\n",
      "  - defaults/win-64::matplotlib-base==3.5.2=py39hd77b12b_0\n",
      "  - defaults/win-64::mkl_fft==1.3.1=py39h277e83a_0\n",
      "  - defaults/win-64::mkl_random==1.2.2=py39hf11a4ad_0\n",
      "  - defaults/win-64::numba==0.55.1=py39hf11a4ad_0\n",
      "  - defaults/win-64::numexpr==2.8.3=py39hb80d3ca_0\n",
      "  - defaults/win-64::numpy==1.21.5=py39h7a0a035_3\n",
      "  - defaults/win-64::pandas==1.4.4=py39hd77b12b_0\n",
      "  - defaults/win-64::panel==0.13.1=py39haa95532_0\n",
      "  - defaults/win-64::patsy==0.5.2=py39haa95532_1\n",
      "  - defaults/win-64::pyerfa==2.0.0=py39h2bbff1b_0\n",
      "  - defaults/win-64::pytables==3.6.1=py39h56d22b6_1\n",
      "  - defaults/win-64::pywavelets==1.3.0=py39h2bbff1b_0\n",
      "  - defaults/win-64::scikit-image==0.19.2=py39hf11a4ad_0\n",
      "  - defaults/win-64::scikit-learn==1.0.2=py39hf11a4ad_1\n",
      "  - defaults/win-64::scikit-learn-intelex==2021.6.0=py39haa95532_0\n",
      "  - defaults/win-64::scipy==1.9.1=py39he11b74f_0\n",
      "  - defaults/noarch::seaborn==0.11.2=pyhd3eb1b0_0\n",
      "  - defaults/win-64::spacy==3.5.3=py39hef0f399_0\n",
      "  - defaults/win-64::statsmodels==0.13.2=py39h2bbff1b_0\n",
      "  - defaults/win-64::thinc==8.1.10=py39hf497b98_0\n",
      "  - defaults/noarch::tifffile==2021.7.2=pyhd3eb1b0_2\n",
      "  - pytorch/win-64::torchaudio==0.13.1=py39_cu116\n",
      "  - pytorch/win-64::torchvision==0.14.1=py39_cu116\n",
      "  - defaults/noarch::xarray==0.20.1=pyhd3eb1b0_1\n",
      "  - defaults/win-64::_anaconda_depends==2022.10=py39_2\n",
      "\n",
      "\n",
      "==> WARNING: A newer version of conda exists. <==\n",
      "  current version: 23.1.0\n",
      "  latest version: 23.5.2\n",
      "\n",
      "Please update conda by running\n",
      "\n",
      "    $ conda update -n base -c conda-forge conda\n",
      "\n",
      "Or to minimize the number of packages updated during conda update use\n",
      "\n",
      "     conda install conda=23.5.2\n",
      "\n",
      "\n"
     ]
    }
   ],
   "source": [
    "#conda install -c conda-forge ipython-sql"
   ],
   "metadata": {
    "collapsed": false
   }
  },
  {
   "cell_type": "code",
   "execution_count": 12,
   "outputs": [
    {
     "name": "stdout",
     "output_type": "stream",
     "text": [
      "Collecting package metadata (current_repodata.json): ...working... done\n",
      "Solving environment: ...working... done\n",
      "\n",
      "## Package Plan ##\n",
      "\n",
      "  environment location: C:\\Users\\Junior\\anaconda3\n",
      "\n",
      "  added / updated specs:\n",
      "    - conda=23.5.2\n",
      "\n",
      "\n",
      "The following packages will be downloaded:\n",
      "\n",
      "    package                    |            build\n",
      "    ---------------------------|-----------------\n",
      "    boltons-23.0.0             |   py39haa95532_0         421 KB\n",
      "    conda-23.5.2               |   py39haa95532_0         1.0 MB\n",
      "    jsonpatch-1.32             |     pyhd3eb1b0_0          15 KB\n",
      "    jsonpointer-2.1            |     pyhd3eb1b0_0           9 KB\n",
      "    packaging-23.0             |   py39haa95532_0          69 KB\n",
      "    ------------------------------------------------------------\n",
      "                                           Total:         1.5 MB\n",
      "\n",
      "The following NEW packages will be INSTALLED:\n",
      "\n",
      "  boltons            pkgs/main/win-64::boltons-23.0.0-py39haa95532_0 \n",
      "  jsonpatch          pkgs/main/noarch::jsonpatch-1.32-pyhd3eb1b0_0 \n",
      "  jsonpointer        pkgs/main/noarch::jsonpointer-2.1-pyhd3eb1b0_0 \n",
      "\n",
      "The following packages will be UPDATED:\n",
      "\n",
      "  conda              conda-forge::conda-23.1.0-py39hcbf530~ --> pkgs/main::conda-23.5.2-py39haa95532_0 \n",
      "  packaging          pkgs/main/noarch::packaging-21.3-pyhd~ --> pkgs/main/win-64::packaging-23.0-py39haa95532_0 \n",
      "\n",
      "The following packages will be SUPERSEDED by a higher-priority channel:\n",
      "\n",
      "  ca-certificates    conda-forge::ca-certificates-2023.7.2~ --> pkgs/main::ca-certificates-2023.05.30-haa95532_0 \n",
      "  certifi            conda-forge/noarch::certifi-2023.7.22~ --> pkgs/main/win-64::certifi-2023.5.7-py39haa95532_0 \n",
      "\n",
      "\n",
      "\n",
      "Downloading and Extracting Packages\n",
      "\n",
      "jsonpointer-2.1      | 9 KB      |            |   0% \n",
      "\n",
      "boltons-23.0.0       | 421 KB    |            |   0% \u001B[A\n",
      "\n",
      "\n",
      "packaging-23.0       | 69 KB     |            |   0% \u001B[A\u001B[A\n",
      "\n",
      "\n",
      "\n",
      "conda-23.5.2         | 1.0 MB    |            |   0% \u001B[A\u001B[A\u001B[A\n",
      "\n",
      "\n",
      "\n",
      "\n",
      "jsonpatch-1.32       | 15 KB     |            |   0% \u001B[A\u001B[A\u001B[A\u001B[A\n",
      "\n",
      "boltons-23.0.0       | 421 KB    | 3          |   4% \u001B[A\n",
      "\n",
      "\n",
      "\n",
      "conda-23.5.2         | 1.0 MB    | 1          |   2% \u001B[A\u001B[A\u001B[A\n",
      "jsonpointer-2.1      | 9 KB      | ########## | 100% \n",
      "\n",
      "\n",
      "packaging-23.0       | 69 KB     | ##3        |  23% \u001B[A\u001B[A\n",
      "\n",
      "\n",
      "\n",
      "\n",
      "jsonpatch-1.32       | 15 KB     | ########## | 100% \u001B[A\u001B[A\u001B[A\u001B[A\n",
      "jsonpointer-2.1      | 9 KB      | ########## | 100% \n",
      "\n",
      "\n",
      "\n",
      "\n",
      "jsonpatch-1.32       | 15 KB     | ########## | 100% \u001B[A\u001B[A\u001B[A\u001B[A\n",
      "\n",
      "\n",
      "packaging-23.0       | 69 KB     | ########## | 100% \u001B[A\u001B[A\n",
      "\n",
      "boltons-23.0.0       | 421 KB    | ####5      |  46% \u001B[A\n",
      "\n",
      "\n",
      "\n",
      "conda-23.5.2         | 1.0 MB    | ##4        |  25% \u001B[A\u001B[A\u001B[A\n",
      "\n",
      "boltons-23.0.0       | 421 KB    | ########## | 100% \u001B[A\n",
      "\n",
      "boltons-23.0.0       | 421 KB    | ########## | 100% \u001B[A\n",
      "\n",
      "\n",
      "\n",
      "conda-23.5.2         | 1.0 MB    | ########## | 100% \u001B[A\u001B[A\u001B[A\n",
      "\n",
      "\n",
      "\n",
      "conda-23.5.2         | 1.0 MB    | ########## | 100% \u001B[A\u001B[A\u001B[A\n",
      "                                                     \n",
      "\n",
      "\n",
      "                                                     \u001B[A\n",
      "\n",
      "\n",
      "                                                     \u001B[A\u001B[A\n",
      "\n",
      "\n",
      "\n",
      "                                                     \u001B[A\u001B[A\u001B[A\n",
      "\n",
      "\n",
      "\n",
      "\n",
      "                                                     \u001B[A\u001B[A\u001B[A\u001B[A\n",
      "\n",
      "Preparing transaction: ...working... done\n",
      "Verifying transaction: ...working... done\n",
      "Executing transaction: ...working... done\n",
      "\n",
      "Note: you may need to restart the kernel to use updated packages.\n"
     ]
    }
   ],
   "source": [
    "conda install conda=23.5.2"
   ],
   "metadata": {
    "collapsed": false
   }
  },
  {
   "cell_type": "code",
   "execution_count": 1,
   "outputs": [],
   "source": [
    "%load_ext sql"
   ],
   "metadata": {
    "collapsed": false
   }
  },
  {
   "cell_type": "code",
   "execution_count": 2,
   "outputs": [],
   "source": [
    "import csv, sqlite3\n",
    "\n",
    "con = sqlite3.connect(\"my_data1.db\")\n",
    "cur = con.cursor()"
   ],
   "metadata": {
    "collapsed": false
   }
  },
  {
   "cell_type": "code",
   "execution_count": 3,
   "outputs": [
    {
     "data": {
      "text/plain": "'Connected: @my_data1.db'"
     },
     "execution_count": 3,
     "metadata": {},
     "output_type": "execute_result"
    }
   ],
   "source": [
    "%sql sqlite:///my_data1.db"
   ],
   "metadata": {
    "collapsed": false
   }
  },
  {
   "cell_type": "code",
   "execution_count": 4,
   "outputs": [
    {
     "name": "stderr",
     "output_type": "stream",
     "text": [
      "C:\\Users\\Junior\\anaconda3\\lib\\site-packages\\pandas\\core\\generic.py:2605: UserWarning: The spaces in these column names will not be changed. In pandas versions < 0.14, spaces were converted to underscores.\n",
      "  sql.to_sql(\n"
     ]
    }
   ],
   "source": [
    "import pandas as pd\n",
    "df = pd.read_csv(\"https://cf-courses-data.s3.us.cloud-object-storage.appdomain.cloud/IBM-DS0321EN-SkillsNetwork/labs/module_2/data/Spacex.csv\")\n",
    "df.to_sql(\"SPACEXTBL\", con, if_exists='replace', index=False,method=\"multi\")"
   ],
   "metadata": {
    "collapsed": false
   }
  },
  {
   "cell_type": "markdown",
   "source": [
    "## Tasks\n",
    "\n",
    "Now write and execute SQL queries to solve the assignment tasks.\n",
    "\n",
    "**Note: If the column names are in mixed case enclose it in double quotes\n",
    "   For Example \"Landing_Outcome\"**\n",
    "\n",
    "### Task 1\n",
    "\n",
    "\n",
    "\n",
    "\n",
    "##### Display the names of the unique launch sites  in the space mission\n"
   ],
   "metadata": {
    "collapsed": false
   }
  },
  {
   "cell_type": "code",
   "execution_count": 19,
   "outputs": [
    {
     "name": "stdout",
     "output_type": "stream",
     "text": [
      " * sqlite:///my_data1.db\n",
      "Done.\n"
     ]
    },
    {
     "data": {
      "text/plain": "[('Failure (parachute)',),\n ('No attempt',),\n ('Uncontrolled (ocean)',),\n ('Controlled (ocean)',),\n ('Failure (drone ship)',),\n ('Precluded (drone ship)',),\n ('Success (ground pad)',),\n ('Success (drone ship)',),\n ('Success',),\n ('Failure',),\n ('No attempt ',),\n (None,)]",
      "text/html": "<table>\n    <thead>\n        <tr>\n            <th>Landing_Outcome</th>\n        </tr>\n    </thead>\n    <tbody>\n        <tr>\n            <td>Failure (parachute)</td>\n        </tr>\n        <tr>\n            <td>No attempt</td>\n        </tr>\n        <tr>\n            <td>Uncontrolled (ocean)</td>\n        </tr>\n        <tr>\n            <td>Controlled (ocean)</td>\n        </tr>\n        <tr>\n            <td>Failure (drone ship)</td>\n        </tr>\n        <tr>\n            <td>Precluded (drone ship)</td>\n        </tr>\n        <tr>\n            <td>Success (ground pad)</td>\n        </tr>\n        <tr>\n            <td>Success (drone ship)</td>\n        </tr>\n        <tr>\n            <td>Success</td>\n        </tr>\n        <tr>\n            <td>Failure</td>\n        </tr>\n        <tr>\n            <td>No attempt </td>\n        </tr>\n        <tr>\n            <td>None</td>\n        </tr>\n    </tbody>\n</table>"
     },
     "execution_count": 19,
     "metadata": {},
     "output_type": "execute_result"
    }
   ],
   "source": [
    "%sql select distinct(\"Landing_Outcome\") from spacextbl"
   ],
   "metadata": {
    "collapsed": false
   }
  },
  {
   "cell_type": "markdown",
   "source": [
    "\n",
    "### Task 2\n",
    "\n",
    "\n",
    "#####  Display 5 records where launch sites begin with the string 'CCA'\n"
   ],
   "metadata": {
    "collapsed": false
   }
  },
  {
   "cell_type": "code",
   "execution_count": 20,
   "outputs": [
    {
     "name": "stdout",
     "output_type": "stream",
     "text": [
      " * sqlite:///my_data1.db\n",
      "Done.\n"
     ]
    },
    {
     "data": {
      "text/plain": "[('06/04/2010', '18:45:00', 'F9 v1.0  B0003', 'CCAFS LC-40', 'Dragon Spacecraft Qualification Unit', 0.0, 'LEO', 'SpaceX', 'Success', 'Failure (parachute)'),\n ('12/08/2010', '15:43:00', 'F9 v1.0  B0004', 'CCAFS LC-40', 'Dragon demo flight C1, two CubeSats, barrel of Brouere cheese', 0.0, 'LEO (ISS)', 'NASA (COTS) NRO', 'Success', 'Failure (parachute)'),\n ('22/05/2012', '7:44:00', 'F9 v1.0  B0005', 'CCAFS LC-40', 'Dragon demo flight C2', 525.0, 'LEO (ISS)', 'NASA (COTS)', 'Success', 'No attempt'),\n ('10/08/2012', '0:35:00', 'F9 v1.0  B0006', 'CCAFS LC-40', 'SpaceX CRS-1', 500.0, 'LEO (ISS)', 'NASA (CRS)', 'Success', 'No attempt'),\n ('03/01/2013', '15:10:00', 'F9 v1.0  B0007', 'CCAFS LC-40', 'SpaceX CRS-2', 677.0, 'LEO (ISS)', 'NASA (CRS)', 'Success', 'No attempt')]",
      "text/html": "<table>\n    <thead>\n        <tr>\n            <th>Date</th>\n            <th>Time (UTC)</th>\n            <th>Booster_Version</th>\n            <th>Launch_Site</th>\n            <th>Payload</th>\n            <th>PAYLOAD_MASS__KG_</th>\n            <th>Orbit</th>\n            <th>Customer</th>\n            <th>Mission_Outcome</th>\n            <th>Landing_Outcome</th>\n        </tr>\n    </thead>\n    <tbody>\n        <tr>\n            <td>06/04/2010</td>\n            <td>18:45:00</td>\n            <td>F9 v1.0  B0003</td>\n            <td>CCAFS LC-40</td>\n            <td>Dragon Spacecraft Qualification Unit</td>\n            <td>0.0</td>\n            <td>LEO</td>\n            <td>SpaceX</td>\n            <td>Success</td>\n            <td>Failure (parachute)</td>\n        </tr>\n        <tr>\n            <td>12/08/2010</td>\n            <td>15:43:00</td>\n            <td>F9 v1.0  B0004</td>\n            <td>CCAFS LC-40</td>\n            <td>Dragon demo flight C1, two CubeSats, barrel of Brouere cheese</td>\n            <td>0.0</td>\n            <td>LEO (ISS)</td>\n            <td>NASA (COTS) NRO</td>\n            <td>Success</td>\n            <td>Failure (parachute)</td>\n        </tr>\n        <tr>\n            <td>22/05/2012</td>\n            <td>7:44:00</td>\n            <td>F9 v1.0  B0005</td>\n            <td>CCAFS LC-40</td>\n            <td>Dragon demo flight C2</td>\n            <td>525.0</td>\n            <td>LEO (ISS)</td>\n            <td>NASA (COTS)</td>\n            <td>Success</td>\n            <td>No attempt</td>\n        </tr>\n        <tr>\n            <td>10/08/2012</td>\n            <td>0:35:00</td>\n            <td>F9 v1.0  B0006</td>\n            <td>CCAFS LC-40</td>\n            <td>SpaceX CRS-1</td>\n            <td>500.0</td>\n            <td>LEO (ISS)</td>\n            <td>NASA (CRS)</td>\n            <td>Success</td>\n            <td>No attempt</td>\n        </tr>\n        <tr>\n            <td>03/01/2013</td>\n            <td>15:10:00</td>\n            <td>F9 v1.0  B0007</td>\n            <td>CCAFS LC-40</td>\n            <td>SpaceX CRS-2</td>\n            <td>677.0</td>\n            <td>LEO (ISS)</td>\n            <td>NASA (CRS)</td>\n            <td>Success</td>\n            <td>No attempt</td>\n        </tr>\n    </tbody>\n</table>"
     },
     "execution_count": 20,
     "metadata": {},
     "output_type": "execute_result"
    }
   ],
   "source": [
    "%sql select * from spacextbl \\\n",
    "    where \"Launch_Site\" like 'CCA%' \\\n",
    "    limit 5"
   ],
   "metadata": {
    "collapsed": false
   }
  },
  {
   "cell_type": "markdown",
   "source": [
    "### Task 3\n",
    "\n",
    "\n",
    "\n",
    "\n",
    "##### Display the total payload mass carried by boosters launched by NASA (CRS)\n"
   ],
   "metadata": {
    "collapsed": false
   }
  },
  {
   "cell_type": "code",
   "execution_count": 21,
   "outputs": [
    {
     "name": "stdout",
     "output_type": "stream",
     "text": [
      " * sqlite:///my_data1.db\n",
      "Done.\n"
     ]
    },
    {
     "data": {
      "text/plain": "[(45596.0,)]",
      "text/html": "<table>\n    <thead>\n        <tr>\n            <th>Total NASA Payload</th>\n        </tr>\n    </thead>\n    <tbody>\n        <tr>\n            <td>45596.0</td>\n        </tr>\n    </tbody>\n</table>"
     },
     "execution_count": 21,
     "metadata": {},
     "output_type": "execute_result"
    }
   ],
   "source": [
    "%sql select sum(\"PAYLOAD_MASS__KG_\") as 'Total NASA Payload' from spacextbl \\\n",
    "    where customer == 'NASA (CRS)'"
   ],
   "metadata": {
    "collapsed": false
   }
  },
  {
   "cell_type": "markdown",
   "source": [
    "### Task 4\n",
    "\n",
    "\n",
    "\n",
    "\n",
    "##### Display average payload mass carried by booster version F9 v1.1\n"
   ],
   "metadata": {
    "collapsed": false
   }
  },
  {
   "cell_type": "code",
   "execution_count": 22,
   "outputs": [
    {
     "name": "stdout",
     "output_type": "stream",
     "text": [
      " * sqlite:///my_data1.db\n",
      "Done.\n"
     ]
    },
    {
     "data": {
      "text/plain": "[(2534.6666666666665,)]",
      "text/html": "<table>\n    <thead>\n        <tr>\n            <th>Average Payload Mass</th>\n        </tr>\n    </thead>\n    <tbody>\n        <tr>\n            <td>2534.6666666666665</td>\n        </tr>\n    </tbody>\n</table>"
     },
     "execution_count": 22,
     "metadata": {},
     "output_type": "execute_result"
    }
   ],
   "source": [
    "%sql select avg(\"PAYLOAD_MASS__KG_\") as 'Average Payload Mass' from spacextbl \\\n",
    "    where \"Booster_Version\" like 'F9 v1.1%'"
   ],
   "metadata": {
    "collapsed": false
   }
  },
  {
   "cell_type": "markdown",
   "source": [
    "### Task 5\n",
    "\n",
    "##### List the date when the first succesful landing outcome in ground pad was acheived.\n",
    "\n",
    "\n",
    "_Hint:Use min function_\n"
   ],
   "metadata": {
    "collapsed": false
   }
  },
  {
   "cell_type": "code",
   "execution_count": 23,
   "outputs": [
    {
     "name": "stdout",
     "output_type": "stream",
     "text": [
      " * sqlite:///my_data1.db\n",
      "Done.\n"
     ]
    },
    {
     "data": {
      "text/plain": "[('22/12/2015',)]",
      "text/html": "<table>\n    <thead>\n        <tr>\n            <th>Date</th>\n        </tr>\n    </thead>\n    <tbody>\n        <tr>\n            <td>22/12/2015</td>\n        </tr>\n    </tbody>\n</table>"
     },
     "execution_count": 23,
     "metadata": {},
     "output_type": "execute_result"
    }
   ],
   "source": [
    "%sql select date from spacextbl \\\n",
    "    where \"Landing_Outcome\" == 'Success (ground pad)' \\\n",
    "    order by \"Landing_Outcome\" desc \\\n",
    "    limit 1"
   ],
   "metadata": {
    "collapsed": false
   }
  },
  {
   "cell_type": "markdown",
   "source": [
    "### Task 6\n",
    "\n",
    "##### List the names of the boosters which have success in drone ship and have payload mass greater than 4000 but less than 6000\n"
   ],
   "metadata": {
    "collapsed": false
   }
  },
  {
   "cell_type": "code",
   "execution_count": 24,
   "outputs": [
    {
     "name": "stdout",
     "output_type": "stream",
     "text": [
      " * sqlite:///my_data1.db\n",
      "Done.\n"
     ]
    },
    {
     "data": {
      "text/plain": "[('F9 FT B1021.1',),\n ('F9 FT B1022',),\n ('F9 FT B1023.1',),\n ('F9 FT B1026',),\n ('F9 FT B1029.1',),\n ('F9 FT  B1021.2',),\n ('F9 FT  B1029.2',),\n ('F9 FT B1036.1',),\n ('F9 FT B1038.1',),\n ('F9 B4 B1041.1',),\n ('F9 FT  B1031.2',),\n ('F9 B4 B1042.1',),\n ('F9 B4 B1045.1',),\n ('F9 B5  B1046.1',)]",
      "text/html": "<table>\n    <thead>\n        <tr>\n            <th>Booster Name</th>\n        </tr>\n    </thead>\n    <tbody>\n        <tr>\n            <td>F9 FT B1021.1</td>\n        </tr>\n        <tr>\n            <td>F9 FT B1022</td>\n        </tr>\n        <tr>\n            <td>F9 FT B1023.1</td>\n        </tr>\n        <tr>\n            <td>F9 FT B1026</td>\n        </tr>\n        <tr>\n            <td>F9 FT B1029.1</td>\n        </tr>\n        <tr>\n            <td>F9 FT  B1021.2</td>\n        </tr>\n        <tr>\n            <td>F9 FT  B1029.2</td>\n        </tr>\n        <tr>\n            <td>F9 FT B1036.1</td>\n        </tr>\n        <tr>\n            <td>F9 FT B1038.1</td>\n        </tr>\n        <tr>\n            <td>F9 B4 B1041.1</td>\n        </tr>\n        <tr>\n            <td>F9 FT  B1031.2</td>\n        </tr>\n        <tr>\n            <td>F9 B4 B1042.1</td>\n        </tr>\n        <tr>\n            <td>F9 B4 B1045.1</td>\n        </tr>\n        <tr>\n            <td>F9 B5  B1046.1</td>\n        </tr>\n    </tbody>\n</table>"
     },
     "execution_count": 24,
     "metadata": {},
     "output_type": "execute_result"
    }
   ],
   "source": [
    "%sql select \"Booster_Version\" as 'Booster Name' from spacextbl \\\n",
    "    where \"Landing_Outcome\" == 'Success (drone ship)' \\\n",
    "    and 4000 > \"PAYLOAD_MASS__KG_\" < 6000"
   ],
   "metadata": {
    "collapsed": false
   }
  },
  {
   "cell_type": "markdown",
   "source": [
    "### Task 7\n",
    "\n",
    "\n",
    "\n",
    "\n",
    "##### List the total number of successful and failure mission outcomes\n"
   ],
   "metadata": {
    "collapsed": false
   }
  },
  {
   "cell_type": "code",
   "execution_count": 25,
   "outputs": [
    {
     "name": "stdout",
     "output_type": "stream",
     "text": [
      " * sqlite:///my_data1.db\n",
      "Done.\n"
     ]
    },
    {
     "data": {
      "text/plain": "[(100, 1)]",
      "text/html": "<table>\n    <thead>\n        <tr>\n            <th>Successful Mission Counts</th>\n            <th>Failed Mission Counts</th>\n        </tr>\n    </thead>\n    <tbody>\n        <tr>\n            <td>100</td>\n            <td>1</td>\n        </tr>\n    </tbody>\n</table>"
     },
     "execution_count": 25,
     "metadata": {},
     "output_type": "execute_result"
    }
   ],
   "source": [
    "%sql select count(\"Mission_Outcome\") as 'Successful Mission Counts', \\\n",
    "    (select count(\"Mission_Outcome\") from spacextbl \\\n",
    "    where \"Mission_Outcome\" like 'Failure%') as 'Failed Mission Counts' from spacextbl \\\n",
    "    where \"Mission_Outcome\" like 'Success%'"
   ],
   "metadata": {
    "collapsed": false
   }
  },
  {
   "cell_type": "markdown",
   "source": [
    "### Task 8\n",
    "\n",
    "\n",
    "\n",
    "##### List the   names of the booster_versions which have carried the maximum payload mass. Use a subquery\n"
   ],
   "metadata": {
    "collapsed": false
   }
  },
  {
   "cell_type": "code",
   "execution_count": 26,
   "outputs": [
    {
     "name": "stdout",
     "output_type": "stream",
     "text": [
      " * sqlite:///my_data1.db\n",
      "Done.\n"
     ]
    },
    {
     "data": {
      "text/plain": "[('F9 B5 B1048.4',),\n ('F9 B5 B1049.4',),\n ('F9 B5 B1051.3',),\n ('F9 B5 B1056.4',),\n ('F9 B5 B1048.5',),\n ('F9 B5 B1051.4',),\n ('F9 B5 B1049.5',),\n ('F9 B5 B1060.2 ',),\n ('F9 B5 B1058.3 ',),\n ('F9 B5 B1051.6',),\n ('F9 B5 B1060.3',),\n ('F9 B5 B1049.7 ',)]",
      "text/html": "<table>\n    <thead>\n        <tr>\n            <th>Booster_Version</th>\n        </tr>\n    </thead>\n    <tbody>\n        <tr>\n            <td>F9 B5 B1048.4</td>\n        </tr>\n        <tr>\n            <td>F9 B5 B1049.4</td>\n        </tr>\n        <tr>\n            <td>F9 B5 B1051.3</td>\n        </tr>\n        <tr>\n            <td>F9 B5 B1056.4</td>\n        </tr>\n        <tr>\n            <td>F9 B5 B1048.5</td>\n        </tr>\n        <tr>\n            <td>F9 B5 B1051.4</td>\n        </tr>\n        <tr>\n            <td>F9 B5 B1049.5</td>\n        </tr>\n        <tr>\n            <td>F9 B5 B1060.2 </td>\n        </tr>\n        <tr>\n            <td>F9 B5 B1058.3 </td>\n        </tr>\n        <tr>\n            <td>F9 B5 B1051.6</td>\n        </tr>\n        <tr>\n            <td>F9 B5 B1060.3</td>\n        </tr>\n        <tr>\n            <td>F9 B5 B1049.7 </td>\n        </tr>\n    </tbody>\n</table>"
     },
     "execution_count": 26,
     "metadata": {},
     "output_type": "execute_result"
    }
   ],
   "source": [
    "%sql select \"Booster_Version\" from spacextbl \\\n",
    "    where \"PAYLOAD_MASS__KG_\" = (select max(\"PAYLOAD_MASS__KG_\") from spacextbl)"
   ],
   "metadata": {
    "collapsed": false
   }
  },
  {
   "cell_type": "markdown",
   "source": [
    "### Task 9\n",
    "\n",
    "\n",
    "##### List the records which will display the month names, failure landing_outcomes in drone ship ,booster versions, launch_site for the months in year 2015.\n",
    "\n",
    "**Note: SQLLite does not support monthnames. So you need to use  substr(Date, 4, 2) as month to get the months and substr(Date,7,4)='2015' for year.**\n"
   ],
   "metadata": {
    "collapsed": false
   }
  },
  {
   "cell_type": "code",
   "execution_count": 27,
   "outputs": [
    {
     "name": "stdout",
     "output_type": "stream",
     "text": [
      " * sqlite:///my_data1.db\n",
      "Done.\n"
     ]
    },
    {
     "data": {
      "text/plain": "[('10', 'Failure (drone ship)', 'F9 v1.1 B1012', 'CCAFS LC-40'),\n ('04', 'Failure (drone ship)', 'F9 v1.1 B1015', 'CCAFS LC-40')]",
      "text/html": "<table>\n    <thead>\n        <tr>\n            <th>Date</th>\n            <th>Landing_Outcome</th>\n            <th>Booster_Version</th>\n            <th>Launch_Site</th>\n        </tr>\n    </thead>\n    <tbody>\n        <tr>\n            <td>10</td>\n            <td>Failure (drone ship)</td>\n            <td>F9 v1.1 B1012</td>\n            <td>CCAFS LC-40</td>\n        </tr>\n        <tr>\n            <td>04</td>\n            <td>Failure (drone ship)</td>\n            <td>F9 v1.1 B1015</td>\n            <td>CCAFS LC-40</td>\n        </tr>\n    </tbody>\n</table>"
     },
     "execution_count": 27,
     "metadata": {},
     "output_type": "execute_result"
    }
   ],
   "source": [
    "%sql SELECT substr(Date, 4,2) as 'Date', \"Landing_Outcome\", \"Booster_Version\", \"Launch_Site\" from spacextbl \\\n",
    "    where \"Landing_Outcome\" = 'Failure (drone ship)' \\\n",
    "    and substr(Date,7,4) = '2015'"
   ],
   "metadata": {
    "collapsed": false
   }
  },
  {
   "cell_type": "markdown",
   "source": [
    "### Task 10\n",
    "\n",
    "\n",
    "\n",
    "\n",
    "##### Rank the count of landing outcomes (such as Failure (drone ship) or Success (ground pad)) between the date 2010-06-04 and 2017-03-20, in descending order.\n"
   ],
   "metadata": {
    "collapsed": false
   }
  },
  {
   "cell_type": "code",
   "execution_count": 28,
   "outputs": [
    {
     "name": "stdout",
     "output_type": "stream",
     "text": [
      " * sqlite:///my_data1.db\n",
      "Done.\n"
     ]
    },
    {
     "data": {
      "text/plain": "[('Success', 38),\n ('No attempt', 21),\n ('Success (drone ship)', 14),\n ('Success (ground pad)', 9),\n ('Failure (drone ship)', 5),\n ('Controlled (ocean)', 5),\n ('Failure', 3),\n ('Uncontrolled (ocean)', 2),\n ('Failure (parachute)', 2),\n ('Precluded (drone ship)', 1),\n ('No attempt ', 1),\n (None, 0)]",
      "text/html": "<table>\n    <thead>\n        <tr>\n            <th>Landing_Outcome</th>\n            <th>Landing Count</th>\n        </tr>\n    </thead>\n    <tbody>\n        <tr>\n            <td>Success</td>\n            <td>38</td>\n        </tr>\n        <tr>\n            <td>No attempt</td>\n            <td>21</td>\n        </tr>\n        <tr>\n            <td>Success (drone ship)</td>\n            <td>14</td>\n        </tr>\n        <tr>\n            <td>Success (ground pad)</td>\n            <td>9</td>\n        </tr>\n        <tr>\n            <td>Failure (drone ship)</td>\n            <td>5</td>\n        </tr>\n        <tr>\n            <td>Controlled (ocean)</td>\n            <td>5</td>\n        </tr>\n        <tr>\n            <td>Failure</td>\n            <td>3</td>\n        </tr>\n        <tr>\n            <td>Uncontrolled (ocean)</td>\n            <td>2</td>\n        </tr>\n        <tr>\n            <td>Failure (parachute)</td>\n            <td>2</td>\n        </tr>\n        <tr>\n            <td>Precluded (drone ship)</td>\n            <td>1</td>\n        </tr>\n        <tr>\n            <td>No attempt </td>\n            <td>1</td>\n        </tr>\n        <tr>\n            <td>None</td>\n            <td>0</td>\n        </tr>\n    </tbody>\n</table>"
     },
     "execution_count": 28,
     "metadata": {},
     "output_type": "execute_result"
    }
   ],
   "source": [
    "%sql select \"Landing_Outcome\", count(\"Landing_Outcome\") as 'Landing Count' from spacextbl \\\n",
    "    group by \"Landing_Outcome\" \\\n",
    "    order by count(\"Landing_Outcome\") desc"
   ],
   "metadata": {
    "collapsed": false
   }
  },
  {
   "cell_type": "markdown",
   "source": [
    "### Reference Links\n",
    "\n",
    "* <a href =\"https://cf-courses-data.s3.us.cloud-object-storage.appdomain.cloud/IBMDeveloperSkillsNetwork-DB0201EN-SkillsNetwork/labs/Labs_Coursera_V5/labs/Lab%20-%20String%20Patterns%20-%20Sorting%20-%20Grouping/instructional-labs.md.html?origin=www.coursera.org\">Hands-on Lab : String Patterns, Sorting and Grouping</a>\n",
    "\n",
    "*  <a  href=\"https://cf-courses-data.s3.us.cloud-object-storage.appdomain.cloud/IBMDeveloperSkillsNetwork-DB0201EN-SkillsNetwork/labs/Labs_Coursera_V5/labs/Lab%20-%20Built-in%20functions%20/Hands-on_Lab__Built-in_Functions.md.html?origin=www.coursera.org\">Hands-on Lab: Built-in functions</a>\n",
    "\n",
    "*  <a  href=\"https://cf-courses-data.s3.us.cloud-object-storage.appdomain.cloud/IBMDeveloperSkillsNetwork-DB0201EN-SkillsNetwork/labs/Labs_Coursera_V5/labs/Lab%20-%20Sub-queries%20and%20Nested%20SELECTs%20/instructional-labs.md.html?origin=www.coursera.org\">Hands-on Lab : Sub-queries and Nested SELECT Statements</a>\n",
    "\n",
    "*   <a href=\"https://cf-courses-data.s3.us.cloud-object-storage.appdomain.cloud/IBMDeveloperSkillsNetwork-DB0201EN-SkillsNetwork/labs/Module%205/DB0201EN-Week3-1-3-SQLmagic.ipynb\">Hands-on Tutorial: Accessing Databases with SQL magic</a>\n",
    "\n",
    "*  <a href= \"https://cf-courses-data.s3.us.cloud-object-storage.appdomain.cloud/IBMDeveloperSkillsNetwork-DB0201EN-SkillsNetwork/labs/Module%205/DB0201EN-Week3-1-4-Analyzing.ipynb\">Hands-on Lab: Analyzing a real World Data Set</a>\n",
    "\n",
    "\n"
   ],
   "metadata": {
    "collapsed": false
   }
  },
  {
   "cell_type": "markdown",
   "source": [
    "## Author(s)\n",
    "\n",
    "<h4> Lakshmi Holla </h4>\n"
   ],
   "metadata": {
    "collapsed": false
   }
  },
  {
   "cell_type": "markdown",
   "source": [
    "## Other Contributors\n",
    "\n",
    "<h4> Rav Ahuja </h4>\n"
   ],
   "metadata": {
    "collapsed": false
   }
  },
  {
   "cell_type": "markdown",
   "source": [
    "## Change log\n",
    "| Date | Version | Changed by | Change Description |\n",
    "|------|--------|--------|---------|\n",
    "| 2021-07-09 | 0.2 |Lakshmi Holla | Changes made in magic sql|\n",
    "| 2021-05-20 | 0.1 |Lakshmi Holla | Created Initial Version |\n"
   ],
   "metadata": {
    "collapsed": false
   }
  },
  {
   "cell_type": "markdown",
   "source": [
    "## <h3 align=\"center\"> © IBM Corporation 2021. All rights reserved. <h3/>\n"
   ],
   "metadata": {
    "collapsed": false
   }
  }
 ],
 "metadata": {
  "kernelspec": {
   "display_name": "Python 3",
   "language": "python",
   "name": "python3"
  },
  "language_info": {
   "codemirror_mode": {
    "name": "ipython",
    "version": 2
   },
   "file_extension": ".py",
   "mimetype": "text/x-python",
   "name": "python",
   "nbconvert_exporter": "python",
   "pygments_lexer": "ipython2",
   "version": "2.7.6"
  }
 },
 "nbformat": 4,
 "nbformat_minor": 0
}
